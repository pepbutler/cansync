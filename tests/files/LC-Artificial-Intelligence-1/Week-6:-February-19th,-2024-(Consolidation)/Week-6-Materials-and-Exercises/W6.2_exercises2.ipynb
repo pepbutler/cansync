{
 "cells": [
  {
   "cell_type": "code",
   "execution_count": 1,
   "id": "1649aaf1-5951-4897-8358-c91bd885eae2",
   "metadata": {},
   "outputs": [],
   "source": [
    "%jars /jupyter/data/weka-3-8-5/weka.jar"
   ]
  },
  {
   "cell_type": "code",
   "execution_count": 2,
   "id": "9ee4136b-ac4b-4ccc-8193-7525fec520b6",
   "metadata": {},
   "outputs": [],
   "source": [
    "import weka.core.Instances;"
   ]
  },
  {
   "cell_type": "code",
   "execution_count": 19,
   "id": "175478c6-3a3a-4fdf-a4f1-a524c651a332",
   "metadata": {},
   "outputs": [],
   "source": [
    "// using filter to remove an instance\n",
    "\n",
    "import weka.core.Instances; \n",
    "import weka.filters.Filter;\n",
    "import weka.core.converters.ConverterUtils.DataSource;\n",
    "import weka.filters.unsupervised.attribute.Remove;\n",
    "    \n",
    "Instances data = DataSource.read (\"/jupyter/data/weka-data/iris.arff\");\n",
    "//System.out.println (data);\n",
    "String[] options = new String[2];\n",
    "options[0] = \"-R\";\n",
    "options[1] = \"1\";\n",
    "Remove remove = new Remove(); \n",
    "remove.setOptions(options);\n",
    "remove.setInputFormat(data);\n",
    "Instances newData = Filter.useFilter(data, remove);\n",
    "\n",
    "//System.out.println (newData);"
   ]
  },
  {
   "cell_type": "code",
   "execution_count": 20,
   "id": "d5734e98-3c9e-4523-95c4-18c9e3a6540d",
   "metadata": {},
   "outputs": [],
   "source": [
    "//using filter to standarize data\n",
    "\n",
    "import weka.filters.unsupervised.attribute.Standardize;\n",
    "Instances data = DataSource.read (\"/jupyter/data/weka-data/iris.arff\");\n",
    "//System.out.println (data);\n",
    "Standardize filter = new Standardize();\n",
    "filter.setInputFormat(data);\n",
    "Instances StandData = Filter.useFilter(data,filter);\n",
    "//System.out.println (StandData);"
   ]
  },
  {
   "cell_type": "code",
   "execution_count": 21,
   "id": "a80fb39b-3bab-462c-9ae6-38afa1da55d9",
   "metadata": {},
   "outputs": [
    {
     "name": "stdout",
     "output_type": "stream",
     "text": [
      "\n",
      "Correctly Classified Instances         144               96      %\n",
      "Incorrectly Classified Instances         6                4      %\n",
      "Kappa statistic                          0.94  \n",
      "Mean absolute error                      0.035 \n",
      "Root mean squared error                  0.1586\n",
      "Relative absolute error                  7.8705 %\n",
      "Root relative squared error             33.6353 %\n",
      "Total Number of Instances              150     \n",
      "\n"
     ]
    }
   ],
   "source": [
    "// Decision tree- For cross validation\n",
    "\n",
    "import weka.core.Instances;   // import Instances class\n",
    "import weka.classifiers.trees.J48; // import J48 model of the decision tree\n",
    "import weka.classifiers.Evaluation; // import \n",
    "import weka.core.converters.ConverterUtils.DataSource;\n",
    "import java.util.Random;\n",
    "\n",
    "Instances data = DataSource.read (\"/jupyter/data/weka-data/iris.arff\");\n",
    "data.setClassIndex(data.numAttributes()- 1); \n",
    "\n",
    "J48 cls = new J48 ();\n",
    "\n",
    "Evaluation eval = new Evaluation (data) ;\n",
    "\n",
    "eval. crossValidateModel (cls, data, 10, new Random(1)) ;\n",
    "\n",
    "System.out.println (eval. toSummaryString());"
   ]
  },
  {
   "cell_type": "code",
   "execution_count": 25,
   "id": "a88a6515-7b85-4ae0-8719-7aa63ea91fe1",
   "metadata": {},
   "outputs": [
    {
     "name": "stdout",
     "output_type": "stream",
     "text": [
      "\n",
      "Correctly Classified Instances          19               86.3636 %\n",
      "Incorrectly Classified Instances         3               13.6364 %\n",
      "Kappa statistic                          0     \n",
      "Mean absolute error                      0.1288\n",
      "Root mean squared error                  0.3   \n",
      "Relative absolute error                 24.8055 %\n",
      "Root relative squared error             54.4812 %\n",
      "Total Number of Instances               22     \n",
      "\n"
     ]
    }
   ],
   "source": [
    "// decision tree train-test split\n",
    "import weka.core.Instances;   // import Instances class\n",
    "import weka.classifiers.trees.J48; // import J48 model of the decision tree\n",
    "import weka.classifiers.Evaluation; // import \n",
    "import weka.core.converters.ConverterUtils.DataSource;\n",
    "import java.util.Random;\n",
    "\n",
    "Instances train = DataSource.read (\"/jupyter/work/iris-train.arff\");\n",
    "Instances test = DataSource.read (\"/jupyter/work/iris-test.arff\");\n",
    "train.setClassIndex(train.numAttributes()- 1); \n",
    "test.setClassIndex(test.numAttributes()- 1); \n",
    "\n",
    "J48 cls = new J48 ();\n",
    "cls.buildClassifier(train);\n",
    "\n",
    "Evaluation eval = new Evaluation (train) ;\n",
    "\n",
    "eval. evaluateModel (cls,test) ;\n",
    "\n",
    "System.out.println (eval. toSummaryString());\n"
   ]
  },
  {
   "cell_type": "code",
   "execution_count": 7,
   "id": "26aea298-1ec1-4dd2-8a7f-c299daed582e",
   "metadata": {},
   "outputs": [],
   "source": [
    "Instances data_1 = DataSource.read (\"/jupyter/data/weka-data/glass.arff\");\n",
    "\n"
   ]
  },
  {
   "cell_type": "code",
   "execution_count": 23,
   "id": "ecd1a706-25c6-4f89-9fd6-7040b9752488",
   "metadata": {},
   "outputs": [
    {
     "name": "stdout",
     "output_type": "stream",
     "text": [
      "the 0th class value:Iris-setosa\n",
      "the 1th class value:Iris-versicolor\n",
      "the 2th class value:Iris-virginica\n",
      "actual class:Iris-virginica\n",
      "Iris-virginica,Iris-virginica\n",
      "actual class:Iris-virginica\n",
      "Iris-virginica,Iris-virginica\n",
      "actual class:Iris-virginica\n",
      "Iris-virginica,Iris-virginica\n",
      "actual class:Iris-virginica\n",
      "Iris-virginica,Iris-virginica\n",
      "actual class:Iris-virginica\n",
      "Iris-virginica,Iris-virginica\n",
      "actual class:Iris-virginica\n",
      "Iris-virginica,Iris-versicolor\n",
      "actual class:Iris-virginica\n",
      "Iris-virginica,Iris-versicolor\n",
      "actual class:Iris-virginica\n",
      "Iris-virginica,Iris-virginica\n",
      "actual class:Iris-virginica\n",
      "Iris-virginica,Iris-virginica\n",
      "actual class:Iris-virginica\n",
      "Iris-virginica,Iris-virginica\n",
      "actual class:Iris-virginica\n",
      "Iris-virginica,Iris-virginica\n",
      "actual class:Iris-virginica\n",
      "Iris-virginica,Iris-virginica\n",
      "actual class:Iris-virginica\n",
      "Iris-virginica,Iris-virginica\n",
      "actual class:Iris-virginica\n",
      "Iris-virginica,Iris-virginica\n",
      "actual class:Iris-virginica\n",
      "Iris-virginica,Iris-virginica\n",
      "actual class:Iris-virginica\n",
      "Iris-virginica,Iris-virginica\n",
      "actual class:Iris-virginica\n",
      "Iris-virginica,Iris-virginica\n",
      "actual class:Iris-virginica\n",
      "Iris-virginica,Iris-virginica\n",
      "actual class:Iris-virginica\n",
      "Iris-virginica,Iris-virginica\n",
      "actual class:Iris-virginica\n",
      "Iris-virginica,Iris-virginica\n",
      "actual class:Iris-virginica\n",
      "Iris-virginica,Iris-virginica\n",
      "actual class:Iris-virginica\n",
      "Iris-virginica,Iris-virginica\n"
     ]
    }
   ],
   "source": [
    "import weka.classifiers.bayes.NaiveBayes;\n",
    "import weka.core.Instance;\n",
    "Instances traindata = DataSource.read (\"/jupyter/work/iris-train.arff\");\n",
    "traindata.setClassIndex(traindata.numAttributes()-1); \n",
    "int numClasses = traindata.numClasses();\n",
    "for (int i=0;i<numClasses;i++){\n",
    "\tString classValue = traindata.classAttribute().value(i);\n",
    "\tSystem.out.println(\"the \"+i+\"th class value:\"+classValue);\n",
    "\t}\n",
    "\t\t\n",
    "NaiveBayes nb = new NaiveBayes();\n",
    "nb.buildClassifier(traindata);\n",
    "\t\t/**\n",
    "\t\t * load test data\n",
    "\t\t */\n",
    "Instances testdata = DataSource.read(\"/jupyter/work/iris-test.arff\" );\n",
    "testdata.setClassIndex(testdata.numAttributes()-1);\n",
    "\n",
    "/**\n",
    "\t\t * make prediction by naive bayes classifier\n",
    "\t\t */\n",
    "\t\tfor (int j=0;j<testdata.numInstances();j++){\n",
    "\t\t\tdouble actualClass = testdata.instance(j).classValue();\n",
    "\t\t\tString actual = testdata.classAttribute().value((int) actualClass);\n",
    "\t\t\tInstance newInst = testdata.instance(j);\n",
    "\t\t\tSystem.out.println(\"actual class:\"+newInst.stringValue(newInst.numAttributes()-1));\n",
    "\t\t\tdouble preNB = nb.classifyInstance(newInst);\n",
    "\t\t\tString predString = testdata.classAttribute().value((int) preNB);\n",
    "\t\t\tSystem.out.println(actual+\",\"+predString);\n",
    "\t\t}"
   ]
  },
  {
   "cell_type": "code",
   "execution_count": 30,
   "id": "770b9bcc-c0c5-4ae8-9203-fc2e95680451",
   "metadata": {},
   "outputs": [],
   "source": [
    "\n",
    "import weka.classifiers.Evaluation;\n",
    "import weka.classifiers.functions.LinearRegression;\n",
    "import weka.classifiers.functions.SMOreg;\n",
    "import weka.core.Instances;\n",
    "import weka.core.converters.ConverterUtils.DataSource;\n",
    "\n"
   ]
  },
  {
   "cell_type": "code",
   "execution_count": 36,
   "id": "e86b2e8c-f98b-4960-bfe9-268758441b7a",
   "metadata": {},
   "outputs": [
    {
     "ename": "EvalException",
     "evalue": "no/uib/cipr/matrix/Matrix",
     "output_type": "error",
     "traceback": [
      "\u001b[1m\u001b[31m---------------------------------------------------------------------------\u001b[0m",
      "\u001b[1m\u001b[31mjava.lang.NoClassDefFoundError: no/uib/cipr/matrix/Matrix\u001b[0m",
      "\u001b[1m\u001b[31m\tat .(#97:1)\u001b[0m"
     ]
    }
   ],
   "source": [
    "Instances dataset = DataSource.read (\"/jupyter/work/house.arff\");\n",
    "dataset.setClassIndex(dataset.numAttributes()-1);\n",
    "\t\t/**\n",
    "\t\t * linear regression model\n",
    "\t\t */\n",
    "\n",
    "LinearRegression lr = new LinearRegression();\n",
    "lr.buildClassifier(dataset);\n",
    "\n",
    "Evaluation lreval = new Evaluation(dataset);\n",
    "lreval.evaluateModel(lr, dataset);\n",
    "System.out.println(lreval.toSummaryString());"
   ]
  },
  {
   "cell_type": "code",
   "execution_count": 37,
   "id": "c8dfa220-fd46-4070-aa52-46d13c0911c1",
   "metadata": {},
   "outputs": [
    {
     "name": "stdout",
     "output_type": "stream",
     "text": [
      "\n",
      "Correlation coefficient                  0.9937\n",
      "Mean absolute error                   2445.4066\n",
      "Root mean squared error               5015.3412\n",
      "Relative absolute error                  7.9228 %\n",
      "Root relative squared error             11.513  %\n",
      "Total Number of Instances                7     \n",
      "\n"
     ]
    }
   ],
   "source": [
    "\t\t//System.out.println(lr);\n",
    "\n",
    "/**\n",
    "\t\t * svm regression model\n",
    "\t\t */\n",
    "SMOreg smoreg = new SMOreg();\n",
    "smoreg.buildClassifier(dataset);\n",
    "Evaluation svmregeval = new Evaluation(dataset);\n",
    "svmregeval.evaluateModel(smoreg, dataset);\n",
    "System.out.println(svmregeval.toSummaryString());\n",
    "\t\t\n",
    "\t\n",
    "\n"
   ]
  },
  {
   "cell_type": "code",
   "execution_count": 28,
   "id": "cf245c8d-50dd-4484-85f7-693dc223726f",
   "metadata": {},
   "outputs": [
    {
     "name": "stdout",
     "output_type": "stream",
     "text": [
      "\n",
      "EM\n",
      "==\n",
      "\n",
      "Number of clusters selected by cross validation: 4\n",
      "Number of iterations performed: 16\n",
      "\n",
      "\n",
      "                    Cluster\n",
      "Attribute                 0       1       2       3\n",
      "                     (0.32)  (0.33)   (0.2)  (0.14)\n",
      "====================================================\n",
      "sepallength\n",
      "  mean                 5.897   5.006  6.9426  6.1304\n",
      "  std. dev.           0.5279  0.3489   0.498  0.2943\n",
      "\n",
      "sepalwidth\n",
      "  mean                2.7519   3.418  3.1103  2.8088\n",
      "  std. dev.           0.3103  0.3772  0.2952  0.2361\n",
      "\n",
      "petallength\n",
      "  mean                4.2267   1.464  5.8559  5.0993\n",
      "  std. dev.            0.445  0.1718  0.4626  0.2462\n",
      "\n",
      "petalwidth\n",
      "  mean                1.3134   0.244  2.1495  1.8254\n",
      "  std. dev.           0.1864  0.1061   0.232  0.2152\n",
      "\n",
      "class\n",
      "  Iris-setosa              1      51       1       1\n",
      "  Iris-versicolor    48.1125       1  1.0182  3.8693\n",
      "  Iris-virginica      2.0983       1 31.0375 19.8641\n",
      "  [total]            51.2108      53 33.0557 24.7335\n",
      "Clustered Instances\n",
      "\n",
      "0       48 ( 32%)\n",
      "1       50 ( 33%)\n",
      "2       29 ( 19%)\n",
      "3       23 ( 15%)\n",
      "\n",
      "\n",
      "Log likelihood: -2.03504\n",
      "\n"
     ]
    }
   ],
   "source": [
    "// Clustering\n",
    "import weka.clusterers.EM;\n",
    "import weka.core.Instances;\n",
    "Instances data = DataSource.read (\"/jupyter/data/weka-data/iris.arff\"); // from somewhere\n",
    "String[] options = new String[2];\n",
    "options[0] = \"-I\"; // max. iterations \n",
    "options[1] = \"100\";\n",
    "EM clusterer = new EM(); // new instance of clusterer \n",
    "clusterer.setOptions(options); // set the options \n",
    "clusterer.buildClusterer(data); // build the clusterer\n",
    "\n",
    "\n",
    "//evaluating the clusterer\n",
    "import weka.clusterers.ClusterEvaluation;\n",
    "ClusterEvaluation eval = new ClusterEvaluation();\n",
    "eval.setClusterer(clusterer);\n",
    "eval.evaluateClusterer(new Instances(data)); \n",
    "System.out.println(eval.clusterResultsToString());\n"
   ]
  },
  {
   "cell_type": "code",
   "execution_count": null,
   "id": "b0daa218-dff3-4809-b117-0ae138868c00",
   "metadata": {},
   "outputs": [],
   "source": []
  }
 ],
 "metadata": {
  "kernelspec": {
   "display_name": "Java",
   "language": "java",
   "name": "java"
  },
  "language_info": {
   "codemirror_mode": "java",
   "file_extension": ".jshell",
   "mimetype": "text/x-java-source",
   "name": "Java",
   "pygments_lexer": "java",
   "version": "17.0.9+9-Ubuntu-120.04"
  }
 },
 "nbformat": 4,
 "nbformat_minor": 5
}
