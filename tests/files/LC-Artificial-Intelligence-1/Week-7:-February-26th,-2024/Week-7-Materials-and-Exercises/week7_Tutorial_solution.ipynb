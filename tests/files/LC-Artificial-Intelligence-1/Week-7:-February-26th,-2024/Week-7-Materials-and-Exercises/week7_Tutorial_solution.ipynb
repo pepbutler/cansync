{
 "cells": [
  {
   "cell_type": "code",
   "execution_count": 38,
   "id": "0db1b094-01cd-48aa-b12f-a244ed256af4",
   "metadata": {},
   "outputs": [],
   "source": [
    "%jars /jupyter/data/weka-3-8-5/weka.jar"
   ]
  },
  {
   "cell_type": "code",
   "execution_count": 39,
   "id": "1913c286-46c3-4bac-8b68-2a2d3cbefc0a",
   "metadata": {},
   "outputs": [],
   "source": [
    "// import weka.core.WekaPackageManager;\n",
    "// WekaPackageManager.loadPackages(false);\n",
    "import weka.core.Instances; \n",
    "import weka.filters.Filter;\n",
    "import weka.core.converters.ConverterUtils.DataSource;\n",
    "import weka.filters.unsupervised.attribute.Remove;\n",
    "import weka.classifiers.functions.LinearRegression;\n",
    "import weka.classifiers.functions.Logistic;\n",
    "import weka.classifiers.functions.SMOreg;\n",
    "import weka.classifiers.Evaluation; \n",
    "import java.util.Random;\n",
    "import weka.filters.unsupervised.attribute.Discretize;\n",
    "import weka.filters.supervised.attribute.AttributeSelection;\n",
    "//gui 3.8.5-9"
   ]
  },
  {
   "cell_type": "markdown",
   "id": "289f3dbd-0c67-4e66-a478-561113a87591",
   "metadata": {},
   "source": [
    "# exercise  1"
   ]
  },
  {
   "cell_type": "code",
   "execution_count": 40,
   "id": "1fb36463-9274-426f-967c-1ed643114d03",
   "metadata": {},
   "outputs": [],
   "source": [
    "Instances weather = DataSource.read (\"/jupyter/work/weather-1.arff\");"
   ]
  },
  {
   "cell_type": "code",
   "execution_count": 41,
   "id": "526b7617-3795-46b2-a0c7-edc7edb4b0af",
   "metadata": {},
   "outputs": [
    {
     "data": {
      "text/plain": [
       "@relation weather\n",
       "\n",
       "@attribute Outlook {Sunny,Overcast,Rainy}\n",
       "@attribute ' temperature' numeric\n",
       "@attribute ' humidity' numeric\n",
       "@attribute ' windy' {' FALSE',' TRUE'}\n",
       "@attribute ' play' {' no',' yes'}\n",
       "\n",
       "@data\n",
       "Sunny,85,80,' FALSE',' no'\n",
       "Sunny,80,90,' TRUE',' no'\n",
       "Overcast,83,86,' FALSE',' yes'\n",
       "Rainy,70,96,' FALSE',' yes'\n",
       "Rainy,68,80,' FALSE',' yes'\n",
       "Rainy,65,70,' TRUE',' no'\n",
       "Overcast,64,65,' TRUE',' yes'\n",
       "Sunny,72,95,' FALSE',' no'\n",
       "Sunny,69,70,' FALSE',' yes'\n",
       "Rainy,75,80,' FALSE',' yes'\n",
       "Sunny,75,70,' TRUE',' yes'\n",
       "Overcast,72,90,' TRUE',' yes'\n",
       "Overcast,81,75,' FALSE',' yes'\n",
       "Rainy,71,91,' TRUE',' no'"
      ]
     },
     "execution_count": 41,
     "metadata": {},
     "output_type": "execute_result"
    }
   ],
   "source": [
    "weather"
   ]
  },
  {
   "cell_type": "code",
   "execution_count": 23,
   "id": "36de89c8-92f4-442b-96d3-f2f9d9e19075",
   "metadata": {},
   "outputs": [
    {
     "data": {
      "text/plain": [
       "3"
      ]
     },
     "execution_count": 23,
     "metadata": {},
     "output_type": "execute_result"
    }
   ],
   "source": [
    "\"\" + (weather.classIndex() + 4)"
   ]
  },
  {
   "cell_type": "code",
   "execution_count": 42,
   "id": "39a794d0-f129-42ba-8f3c-6b0cbd066af3",
   "metadata": {},
   "outputs": [],
   "source": [
    "Remove filter = new Remove();\n",
    "// filter.setAttributeIndices(\"\" + (weather.classIndex() + 4));\n",
    "filter.setAttributeIndices(\"3\");\n",
    "filter.setInputFormat(weather);\n",
    "Instances weather2 = Filter.useFilter(weather, filter);"
   ]
  },
  {
   "cell_type": "code",
   "execution_count": 43,
   "id": "05adc834-7b77-47e3-ab72-f40ff2899f74",
   "metadata": {},
   "outputs": [
    {
     "data": {
      "text/plain": [
       "@relation weather-weka.filters.unsupervised.attribute.Remove-R3\n",
       "\n",
       "@attribute Outlook {Sunny,Overcast,Rainy}\n",
       "@attribute ' temperature' numeric\n",
       "@attribute ' windy' {' FALSE',' TRUE'}\n",
       "@attribute ' play' {' no',' yes'}\n",
       "\n",
       "@data\n",
       "Sunny,85,' FALSE',' no'\n",
       "Sunny,80,' TRUE',' no'\n",
       "Overcast,83,' FALSE',' yes'\n",
       "Rainy,70,' FALSE',' yes'\n",
       "Rainy,68,' FALSE',' yes'\n",
       "Rainy,65,' TRUE',' no'\n",
       "Overcast,64,' TRUE',' yes'\n",
       "Sunny,72,' FALSE',' no'\n",
       "Sunny,69,' FALSE',' yes'\n",
       "Rainy,75,' FALSE',' yes'\n",
       "Sunny,75,' TRUE',' yes'\n",
       "Overcast,72,' TRUE',' yes'\n",
       "Overcast,81,' FALSE',' yes'\n",
       "Rainy,71,' TRUE',' no'"
      ]
     },
     "execution_count": 43,
     "metadata": {},
     "output_type": "execute_result"
    }
   ],
   "source": [
    "weather2"
   ]
  },
  {
   "cell_type": "markdown",
   "id": "e6562a9e-578b-4c3c-a434-82d3408fe96e",
   "metadata": {},
   "source": [
    "# exercise 2"
   ]
  },
  {
   "cell_type": "code",
   "execution_count": 44,
   "id": "263b9652-de3e-496e-9c27-dc67bb44276c",
   "metadata": {},
   "outputs": [],
   "source": [
    "Discretize discretize = new Discretize();\n",
    "\n",
    "String[] options = new String[4]; \n",
    "options[0] =  \"-B\";\n",
    "options[1] = \"3\";\n",
    "options[2] = \"-R\";\n",
    "options[3] = \"2\";\n",
    "// options[0] = \"-c\";\n",
    "// options[1] = \"3\";\n",
    "discretize.setOptions(options);\n",
    "discretize.setInputFormat(weather2);\n",
    "\n",
    "Instances weather3 = Filter.useFilter(weather2, discretize);"
   ]
  },
  {
   "cell_type": "code",
   "execution_count": 45,
   "id": "97a0565a-5ce6-4187-80da-530992d48fa3",
   "metadata": {},
   "outputs": [
    {
     "data": {
      "text/plain": [
       "@relation weather-weka.filters.unsupervised.attribute.Remove-R3-weka.filters.unsupervised.attribute.Discretize-B3-M-1.0-R2-precision6\n",
       "\n",
       "@attribute Outlook {Sunny,Overcast,Rainy}\n",
       "@attribute ' temperature' {'\\'(-inf-71]\\'','\\'(71-78]\\'','\\'(78-inf)\\''}\n",
       "@attribute ' windy' {' FALSE',' TRUE'}\n",
       "@attribute ' play' {' no',' yes'}\n",
       "\n",
       "@data\n",
       "Sunny,'\\'(78-inf)\\'',' FALSE',' no'\n",
       "Sunny,'\\'(78-inf)\\'',' TRUE',' no'\n",
       "Overcast,'\\'(78-inf)\\'',' FALSE',' yes'\n",
       "Rainy,'\\'(-inf-71]\\'',' FALSE',' yes'\n",
       "Rainy,'\\'(-inf-71]\\'',' FALSE',' yes'\n",
       "Rainy,'\\'(-inf-71]\\'',' TRUE',' no'\n",
       "Overcast,'\\'(-inf-71]\\'',' TRUE',' yes'\n",
       "Sunny,'\\'(71-78]\\'',' FALSE',' no'\n",
       "Sunny,'\\'(-inf-71]\\'',' FALSE',' yes'\n",
       "Rainy,'\\'(71-78]\\'',' FALSE',' yes'\n",
       "Sunny,'\\'(71-78]\\'',' TRUE',' yes'\n",
       "Overcast,'\\'(71-78]\\'',' TRUE',' yes'\n",
       "Overcast,'\\'(78-inf)\\'',' FALSE',' yes'\n",
       "Rainy,'\\'(-inf-71]\\'',' TRUE',' no'"
      ]
     },
     "execution_count": 45,
     "metadata": {},
     "output_type": "execute_result"
    }
   ],
   "source": [
    "weather3"
   ]
  },
  {
   "cell_type": "code",
   "execution_count": 46,
   "id": "077a6f18-92e8-47d6-9dbd-a9295b09b538",
   "metadata": {},
   "outputs": [],
   "source": [
    "weather3.setClassIndex(2); "
   ]
  },
  {
   "cell_type": "code",
   "execution_count": 47,
   "id": "714595bf-6d3b-4814-a2d5-68dc09e5b9a4",
   "metadata": {},
   "outputs": [
    {
     "data": {
      "text/plain": [
       "@relation weather-weka.filters.unsupervised.attribute.Remove-R3-weka.filters.unsupervised.attribute.Discretize-B3-M-1.0-R2-precision6\n",
       "\n",
       "@attribute Outlook {Sunny,Overcast,Rainy}\n",
       "@attribute ' temperature' {'\\'(-inf-71]\\'','\\'(71-78]\\'','\\'(78-inf)\\''}\n",
       "@attribute ' windy' {' FALSE',' TRUE'}\n",
       "@attribute ' play' {' no',' yes'}\n",
       "\n",
       "@data\n",
       "Sunny,'\\'(78-inf)\\'',' FALSE',' no'\n",
       "Sunny,'\\'(78-inf)\\'',' TRUE',' no'\n",
       "Overcast,'\\'(78-inf)\\'',' FALSE',' yes'\n",
       "Rainy,'\\'(-inf-71]\\'',' FALSE',' yes'\n",
       "Rainy,'\\'(-inf-71]\\'',' FALSE',' yes'\n",
       "Rainy,'\\'(-inf-71]\\'',' TRUE',' no'\n",
       "Overcast,'\\'(-inf-71]\\'',' TRUE',' yes'\n",
       "Sunny,'\\'(71-78]\\'',' FALSE',' no'\n",
       "Sunny,'\\'(-inf-71]\\'',' FALSE',' yes'\n",
       "Rainy,'\\'(71-78]\\'',' FALSE',' yes'\n",
       "Sunny,'\\'(71-78]\\'',' TRUE',' yes'\n",
       "Overcast,'\\'(71-78]\\'',' TRUE',' yes'\n",
       "Overcast,'\\'(78-inf)\\'',' FALSE',' yes'\n",
       "Rainy,'\\'(-inf-71]\\'',' TRUE',' no'"
      ]
     },
     "execution_count": 47,
     "metadata": {},
     "output_type": "execute_result"
    }
   ],
   "source": [
    "weather3"
   ]
  },
  {
   "cell_type": "code",
   "execution_count": 49,
   "id": "86b42ab8-8dbc-4126-96be-c3dd74406c91",
   "metadata": {},
   "outputs": [],
   "source": [
    "Logistic cls = new Logistic();\n",
    "cls.buildClassifier(weather3);\n",
    "\n",
    "Evaluation eval = new Evaluation (weather3) ;\n",
    "\n",
    "//eval. evaluateModel (cls,train) ; // evaluation on training set\n",
    "//eval.evaluateModel(cls,test) // evaluation on test set \n",
    "\n",
    "eval. crossValidateModel (cls, weather3, 10, new Random(1)) ; // 10 fold cross-validation \n"
   ]
  },
  {
   "cell_type": "code",
   "execution_count": 50,
   "id": "a020d5df-f37e-47fa-b128-37266e1a6286",
   "metadata": {},
   "outputs": [
    {
     "name": "stdout",
     "output_type": "stream",
     "text": [
      "\n",
      "Correctly Classified Instances           7               50      %\n",
      "Incorrectly Classified Instances         7               50      %\n",
      "Kappa statistic                         -0.0426\n",
      "Mean absolute error                      0.5442\n",
      "Root mean squared error                  0.6328\n",
      "Relative absolute error                107.8225 %\n",
      "Root relative squared error            124.232  %\n",
      "Total Number of Instances               14     \n",
      "\n",
      "=== Confusion Matrix ===\n",
      "\n",
      " a b   <-- classified as\n",
      " 5 3 | a =  FALSE\n",
      " 4 2 | b =  TRUE\n",
      "\n",
      "=== Detailed Accuracy By Class ===\n",
      "\n",
      "                 TP Rate  FP Rate  Precision  Recall   F-Measure  MCC      ROC Area  PRC Area  Class\n",
      "                 0.625    0.667    0.556      0.625    0.588      -0.043   0.438     0.559      FALSE\n",
      "                 0.333    0.375    0.400      0.333    0.364      -0.043   0.438     0.436      TRUE\n",
      "Weighted Avg.    0.500    0.542    0.489      0.500    0.492      -0.043   0.438     0.506     \n",
      "\n"
     ]
    }
   ],
   "source": [
    "System.out.println (eval. toSummaryString());\n",
    "System.out.println (eval. toMatrixString());\n",
    "System.out.println (eval. toClassDetailsString());"
   ]
  },
  {
   "cell_type": "code",
   "execution_count": 11,
   "id": "682c5867-f177-4333-a78d-ae7670187879",
   "metadata": {},
   "outputs": [],
   "source": [
    "import weka.classifiers.Classifier;\n",
    "import weka.core.Utils;\n",
    "// Classifier cls = (Classifier) Utils.forName(Classifier.LinearRegression);"
   ]
  },
  {
   "cell_type": "markdown",
   "id": "17d22cd1-6e92-4bc7-b0e3-b3ee005ca855",
   "metadata": {},
   "source": [
    "# exercise 3"
   ]
  },
  {
   "cell_type": "code",
   "execution_count": 51,
   "id": "eaad3916-43f0-40b3-b110-c1d46b295d00",
   "metadata": {},
   "outputs": [
    {
     "data": {
      "text/plain": [
       "@relation weather\n",
       "\n",
       "@attribute Outlook {Sunny,Overcast,Rainy}\n",
       "@attribute ' temperature' numeric\n",
       "@attribute ' humidity' numeric\n",
       "@attribute ' windy' {' FALSE',' TRUE'}\n",
       "@attribute ' play' {' no',' yes'}\n",
       "\n",
       "@data\n",
       "Sunny,85,80,' FALSE',' no'\n",
       "Sunny,80,90,' TRUE',' no'\n",
       "Overcast,83,86,' FALSE',' yes'\n",
       "Rainy,70,96,' FALSE',' yes'\n",
       "Rainy,68,80,' FALSE',' yes'\n",
       "Rainy,65,70,' TRUE',' no'\n",
       "Overcast,64,65,' TRUE',' yes'\n",
       "Sunny,72,95,' FALSE',' no'\n",
       "Sunny,69,70,' FALSE',' yes'\n",
       "Rainy,75,80,' FALSE',' yes'\n",
       "Sunny,75,70,' TRUE',' yes'\n",
       "Overcast,72,90,' TRUE',' yes'\n",
       "Overcast,81,75,' FALSE',' yes'\n",
       "Rainy,71,91,' TRUE',' no'"
      ]
     },
     "execution_count": 51,
     "metadata": {},
     "output_type": "execute_result"
    }
   ],
   "source": [
    "weather"
   ]
  },
  {
   "cell_type": "code",
   "execution_count": 52,
   "id": "ffa5226d-1c47-469c-a062-17bb934df505",
   "metadata": {},
   "outputs": [],
   "source": [
    "Remove filter = new Remove();\n",
    "// filter.setAttributeIndices(\"\" + (weather.classIndex() + 4));\n",
    "filter.setAttributeIndices(\"1,4-5\");\n",
    "filter.setInputFormat(weather);\n",
    "Instances weather_2att = Filter.useFilter(weather, filter);"
   ]
  },
  {
   "cell_type": "code",
   "execution_count": 53,
   "id": "4213e49f-6ed0-4cc5-b334-0951ef34d14f",
   "metadata": {},
   "outputs": [
    {
     "data": {
      "text/plain": [
       "@relation 'weather-weka.filters.unsupervised.attribute.Remove-R1,4-5'\n",
       "\n",
       "@attribute ' temperature' numeric\n",
       "@attribute ' humidity' numeric\n",
       "\n",
       "@data\n",
       "85,80\n",
       "80,90\n",
       "83,86\n",
       "70,96\n",
       "68,80\n",
       "65,70\n",
       "64,65\n",
       "72,95\n",
       "69,70\n",
       "75,80\n",
       "75,70\n",
       "72,90\n",
       "81,75\n",
       "71,91"
      ]
     },
     "execution_count": 53,
     "metadata": {},
     "output_type": "execute_result"
    }
   ],
   "source": [
    " weather_2att"
   ]
  },
  {
   "cell_type": "code",
   "execution_count": 1,
   "id": "10b3d03b-07aa-4f2a-9e20-1f390e0e4bce",
   "metadata": {},
   "outputs": [],
   "source": [
    "// Class<?> baseClass = Classifier.class;\n",
    "// String className = \"weka.classifiers.functions.LinearRegression\";\n",
    "// Classifier cls = (Classifier) Utils.forName(baseClass, className, null);"
   ]
  },
  {
   "cell_type": "code",
   "execution_count": 87,
   "id": "4bbb89f0-e626-4763-9702-4b6831ef0c27",
   "metadata": {},
   "outputs": [
    {
     "ename": "EvalException",
     "evalue": "no/uib/cipr/matrix/Matrix",
     "output_type": "error",
     "traceback": [
      "\u001b[1m\u001b[31m---------------------------------------------------------------------------\u001b[0m",
      "\u001b[1m\u001b[31mjava.lang.NoClassDefFoundError: no/uib/cipr/matrix/Matrix\u001b[0m",
      "\u001b[1m\u001b[31m\tat .(#239:1)\u001b[0m"
     ]
    }
   ],
   "source": [
    "weather_2att.setClassIndex(weather_2att.numAttributes() - 1);\n",
    "LinearRegression lr = new LinearRegression();\n",
    "lr.buildClassifier(weather_2att);\n",
    "\n",
    "Evaluation lreval = new Evaluation(weather_2att);\n",
    "lreval.evaluateModel(lr, weather_2att);\n",
    "System.out.println(lreval.toSummaryString());"
   ]
  },
  {
   "cell_type": "code",
   "execution_count": 55,
   "id": "29f3f454-6893-44ad-9ebb-b3eb2a46a162",
   "metadata": {},
   "outputs": [],
   "source": [
    "import weka.classifiers.functions.SimpleLinearRegression"
   ]
  },
  {
   "cell_type": "code",
   "execution_count": 56,
   "id": "929fa6b2-d776-4082-8acc-faf81c144530",
   "metadata": {},
   "outputs": [
    {
     "name": "stdout",
     "output_type": "stream",
     "text": [
      "\n",
      "Correlation coefficient                  0.251 \n",
      "Mean absolute error                      8.3727\n",
      "Root mean squared error                  9.5576\n",
      "Relative absolute error                 97.2181 %\n",
      "Root relative squared error             96.7988 %\n",
      "Total Number of Instances               14     \n",
      "\n"
     ]
    }
   ],
   "source": [
    "weather_2att.setClassIndex(weather_2att.numAttributes() - 1);\n",
    "SimpleLinearRegression lr = new SimpleLinearRegression();\n",
    "lr.buildClassifier(weather_2att);\n",
    "\n",
    "Evaluation lreval = new Evaluation(weather_2att);\n",
    "lreval.evaluateModel(lr, weather_2att);\n",
    "System.out.println(lreval.toSummaryString());"
   ]
  },
  {
   "cell_type": "code",
   "execution_count": 91,
   "id": "00bb2bfc-26a7-4fc9-89cd-96790285c5b3",
   "metadata": {},
   "outputs": [
    {
     "name": "stdout",
     "output_type": "stream",
     "text": [
      "\n",
      "Correlation coefficient                  0.251 \n",
      "Mean absolute error                      8.4085\n",
      "Root mean squared error                  9.7395\n",
      "Relative absolute error                 97.6341 %\n",
      "Root relative squared error             98.6413 %\n",
      "Total Number of Instances               14     \n",
      "\n"
     ]
    }
   ],
   "source": [
    "SMOreg smoreg = new SMOreg();\n",
    "weather_2att.setClassIndex(weather_2att.numAttributes() - 1);\n",
    "smoreg.buildClassifier(weather_2att);\n",
    "Evaluation svmregeval = new Evaluation(weather_2att);\n",
    "svmregeval.evaluateModel(smoreg, weather_2att);\n",
    "System.out.println(svmregeval.toSummaryString());\n"
   ]
  },
  {
   "cell_type": "markdown",
   "id": "63c70057-10d1-4842-9c6e-25e57af07870",
   "metadata": {},
   "source": [
    "# exercise  4"
   ]
  },
  {
   "cell_type": "code",
   "execution_count": 57,
   "id": "ef88dbe7-4158-4e76-bd5a-0aed2208ed1e",
   "metadata": {},
   "outputs": [],
   "source": [
    "Instances tweets = DataSource.read (\"/jupyter/work/100pos_100neg_tweets.arff\");"
   ]
  },
  {
   "cell_type": "code",
   "execution_count": 59,
   "id": "0c92b871-4b38-4bc0-9ed0-028ed8948db9",
   "metadata": {},
   "outputs": [],
   "source": [
    "tweets.setClassIndex(tweets.numAttributes() - 1);"
   ]
  },
  {
   "cell_type": "code",
   "execution_count": 60,
   "id": "6cbbf9f4-4575-4f7d-8611-6a662b08534a",
   "metadata": {},
   "outputs": [],
   "source": [
    "import weka.filters.unsupervised.attribute.StringToWordVector;\n",
    "import weka.core.tokenizers.NGramTokenizer;"
   ]
  },
  {
   "cell_type": "code",
   "execution_count": 61,
   "id": "b839ea18-5667-4652-ba69-a6e9536bf784",
   "metadata": {},
   "outputs": [],
   "source": [
    "StringToWordVector stw = new StringToWordVector();\n",
    "// String[] options = {\"-R\", \"1\", \"-N\", \"0\", \"-L\"};\n",
    "String[] options = {\"-R\", \"1\"};\n",
    "stw.setOptions(options);\n",
    "stw.setInputFormat(tweets);\n",
    "Instances tweets2 = Filter.useFilter(tweets, stw);\n",
    "tweets2.setClassIndex(0);"
   ]
  },
  {
   "cell_type": "code",
   "execution_count": null,
   "id": "490bfc37-c7f8-479c-abca-3a5447b24560",
   "metadata": {},
   "outputs": [],
   "source": [
    "// NGramTokenizer NG = new NGramTokenizer();"
   ]
  },
  {
   "cell_type": "code",
   "execution_count": 62,
   "id": "abed47ff-aa96-4605-bb28-c9d2f8c30cbb",
   "metadata": {},
   "outputs": [],
   "source": [
    "import weka.classifiers.bayes.NaiveBayes;\n",
    "NaiveBayes classifier = new NaiveBayes();\n",
    "classifier.buildClassifier(tweets2);\n",
    "\n",
    "Evaluation eval = new Evaluation(tweets2);\n",
    "eval.crossValidateModel(classifier, tweets2, 10, new java.util.Random(1));"
   ]
  },
  {
   "cell_type": "code",
   "execution_count": 63,
   "id": "04391ccf-98e9-4e1c-b7ab-4c6343add889",
   "metadata": {},
   "outputs": [
    {
     "name": "stdout",
     "output_type": "stream",
     "text": [
      "\n",
      "Correctly Classified Instances         116               58      %\n",
      "Incorrectly Classified Instances        84               42      %\n",
      "Kappa statistic                          0.16  \n",
      "Mean absolute error                      0.4348\n",
      "Root mean squared error                  0.5692\n",
      "Relative absolute error                 86.9544 %\n",
      "Root relative squared error            113.8342 %\n",
      "Total Number of Instances              200     \n",
      "\n",
      "=== Confusion Matrix ===\n",
      "\n",
      "  a  b   <-- classified as\n",
      " 55 45 |  a = pos\n",
      " 39 61 |  b = neg\n",
      "\n",
      "=== Detailed Accuracy By Class ===\n",
      "\n",
      "                 TP Rate  FP Rate  Precision  Recall   F-Measure  MCC      ROC Area  PRC Area  Class\n",
      "                 0.550    0.390    0.585      0.550    0.567      0.160    0.593     0.587     pos\n",
      "                 0.610    0.450    0.575      0.610    0.592      0.160    0.593     0.579     neg\n",
      "Weighted Avg.    0.580    0.420    0.580      0.580    0.580      0.160    0.593     0.583     \n",
      "\n"
     ]
    }
   ],
   "source": [
    "System.out.println (eval. toSummaryString());\n",
    "System.out.println (eval. toMatrixString());\n",
    "System.out.println (eval. toClassDetailsString());"
   ]
  },
  {
   "cell_type": "code",
   "execution_count": 64,
   "id": "71fa8300-0574-4b4b-b31d-c1d4ca1b07ca",
   "metadata": {},
   "outputs": [],
   "source": [
    "import weka.filters.unsupervised.instance.RemovePercentage;\n",
    "double percentage = 20.0;\n",
    "\n",
    "// Create the RemovePercentage filter\n",
    "RemovePercentage filter = new RemovePercentage();\n",
    "filter.setInputFormat(tweets2);\n",
    "filter.setPercentage(percentage);\n",
    "\n",
    "// Apply the filter to create the testing set\n",
    "Instances testingSet = Filter.useFilter(tweets2, filter);\n",
    "\n",
    "// Invert the filter to create the training set\n",
    "filter.setInvertSelection(true);\n",
    "Instances trainingSet = Filter.useFilter(tweets2, filter);\n"
   ]
  },
  {
   "cell_type": "code",
   "execution_count": 65,
   "id": "3c0b8bda-40f6-4086-b76e-10ec294b18b9",
   "metadata": {},
   "outputs": [],
   "source": [
    "import weka.classifiers.lazy.IBk;\n",
    "import weka.classifiers.Evaluation; \n",
    "import java.util.Random;\n",
    "\n",
    "String[] options = new String[2]; //\n",
    "options[0] = \"-K\"; // setting the number K of nearest neighbours\n",
    "options[1] = \"6\";\n",
    "\n",
    "IBk cls = new IBk();\n",
    "cls.setOptions(options);\n",
    "cls.buildClassifier(trainingSet);\n",
    "\n",
    "Evaluation eval = new Evaluation(tweets2);\n",
    "eval.crossValidateModel(cls, tweets2, 10, new java.util.Random(1));\n",
    "\n",
    "// trainingSet.setClassIndex(trainingSet.numAttributes()-1);   //set last attribute as class attribute\n",
    "// testingSet.setClassIndex(testingSet.numAttributes()-1);   //set last attribute as class attribute\n",
    "// Evaluation eval = new Evaluation (testingSet);\n",
    "// eval. evaluateModel(cls, testingSet);"
   ]
  },
  {
   "cell_type": "code",
   "execution_count": 66,
   "id": "d7151f82-d553-4af0-ad07-bdbfb528942c",
   "metadata": {},
   "outputs": [
    {
     "name": "stdout",
     "output_type": "stream",
     "text": [
      "\n",
      "Correctly Classified Instances         110               55      %\n",
      "Incorrectly Classified Instances        90               45      %\n",
      "Kappa statistic                          0.1   \n",
      "Mean absolute error                      0.4816\n",
      "Root mean squared error                  0.5013\n",
      "Relative absolute error                 96.3292 %\n",
      "Root relative squared error            100.2624 %\n",
      "Total Number of Instances              200     \n",
      "\n",
      "=== Confusion Matrix ===\n",
      "\n",
      "  a  b   <-- classified as\n",
      " 37 63 |  a = pos\n",
      " 27 73 |  b = neg\n",
      "\n",
      "=== Detailed Accuracy By Class ===\n",
      "\n",
      "                 TP Rate  FP Rate  Precision  Recall   F-Measure  MCC      ROC Area  PRC Area  Class\n",
      "                 0.370    0.270    0.578      0.370    0.451      0.107    0.590     0.570     pos\n",
      "                 0.730    0.630    0.537      0.730    0.619      0.107    0.590     0.588     neg\n",
      "Weighted Avg.    0.550    0.450    0.557      0.550    0.535      0.107    0.590     0.579     \n",
      "\n"
     ]
    }
   ],
   "source": [
    "System.out.println (eval. toSummaryString());\n",
    "System.out.println (eval. toMatrixString());\n",
    "System.out.println (eval. toClassDetailsString());"
   ]
  },
  {
   "cell_type": "code",
   "execution_count": 67,
   "id": "2865f336-9f38-41ba-b823-ce0cc2baf83d",
   "metadata": {},
   "outputs": [],
   "source": [
    "import weka.classifiers.Evaluation;\n",
    "// Evaluate the model using 10-fold cross-validation\n",
    "Evaluation eval = new Evaluation(tweets2);\n",
    "eval.crossValidateModel(classifier, tweets2, 10, new java.util.Random(1));"
   ]
  },
  {
   "cell_type": "code",
   "execution_count": 68,
   "id": "c2e7e948-15ce-4621-9fdc-343219403f9d",
   "metadata": {},
   "outputs": [
    {
     "name": "stdout",
     "output_type": "stream",
     "text": [
      "\n",
      "Correctly Classified Instances         116               58      %\n",
      "Incorrectly Classified Instances        84               42      %\n",
      "Kappa statistic                          0.16  \n",
      "Mean absolute error                      0.4348\n",
      "Root mean squared error                  0.5692\n",
      "Relative absolute error                 86.9544 %\n",
      "Root relative squared error            113.8342 %\n",
      "Total Number of Instances              200     \n",
      "\n",
      "=== Confusion Matrix ===\n",
      "\n",
      "  a  b   <-- classified as\n",
      " 55 45 |  a = pos\n",
      " 39 61 |  b = neg\n",
      "\n",
      "=== Detailed Accuracy By Class ===\n",
      "\n",
      "                 TP Rate  FP Rate  Precision  Recall   F-Measure  MCC      ROC Area  PRC Area  Class\n",
      "                 0.550    0.390    0.585      0.550    0.567      0.160    0.593     0.587     pos\n",
      "                 0.610    0.450    0.575      0.610    0.592      0.160    0.593     0.579     neg\n",
      "Weighted Avg.    0.580    0.420    0.580      0.580    0.580      0.160    0.593     0.583     \n",
      "\n"
     ]
    }
   ],
   "source": [
    "System.out.println (eval. toSummaryString());\n",
    "System.out.println (eval. toMatrixString());\n",
    "System.out.println (eval. toClassDetailsString());"
   ]
  },
  {
   "cell_type": "code",
   "execution_count": 39,
   "id": "c3c40804-a0a0-4137-b034-816d1d761b1a",
   "metadata": {},
   "outputs": [],
   "source": [
    "Logistic cls = new Logistic ();\n",
    "cls.buildClassifier(tweets2);\n",
    "Evaluation eval = new Evaluation(tweets2) ;\n",
    "//eval. evaluateModel (cls,train) ; // evaluation on training set\n",
    "//eval.evaluateModel(cls,test) // evaluation on test set \n",
    "eval. crossValidateModel (cls,tweets2, 10, new Random(1)) ; // 10 fold cross-validation "
   ]
  },
  {
   "cell_type": "code",
   "execution_count": 40,
   "id": "cd5bc6cb-0209-4e95-8830-e687c4966c54",
   "metadata": {},
   "outputs": [
    {
     "name": "stdout",
     "output_type": "stream",
     "text": [
      "\n",
      "Correctly Classified Instances         106               53      %\n",
      "Incorrectly Classified Instances        94               47      %\n",
      "Kappa statistic                          0.06  \n",
      "Mean absolute error                      0.4734\n",
      "Root mean squared error                  0.683 \n",
      "Relative absolute error                 94.6717 %\n",
      "Root relative squared error            136.5917 %\n",
      "Total Number of Instances              200     \n",
      "\n",
      "=== Confusion Matrix ===\n",
      "\n",
      "  a  b   <-- classified as\n",
      " 46 54 |  a = pos\n",
      " 40 60 |  b = neg\n",
      "\n",
      "=== Detailed Accuracy By Class ===\n",
      "\n",
      "                 TP Rate  FP Rate  Precision  Recall   F-Measure  MCC      ROC Area  PRC Area  Class\n",
      "                 0.460    0.400    0.535      0.460    0.495      0.061    0.537     0.518     pos\n",
      "                 0.600    0.540    0.526      0.600    0.561      0.061    0.524     0.524     neg\n",
      "Weighted Avg.    0.530    0.470    0.531      0.530    0.528      0.061    0.531     0.521     \n",
      "\n"
     ]
    }
   ],
   "source": [
    "System.out.println (eval. toSummaryString());\n",
    "System.out.println (eval. toMatrixString());\n",
    "System.out.println (eval. toClassDetailsString());"
   ]
  },
  {
   "cell_type": "markdown",
   "id": "c4dfe633-bd5c-4b46-998b-128123f1f631",
   "metadata": {},
   "source": [
    "# exercise  5"
   ]
  },
  {
   "cell_type": "code",
   "execution_count": 69,
   "id": "6c9b06c0-cc91-445d-8831-720de0427d99",
   "metadata": {},
   "outputs": [],
   "source": [
    "Instances housing = DataSource.read (\"/jupyter/work/housing.arff\");"
   ]
  },
  {
   "cell_type": "code",
   "execution_count": 71,
   "id": "96d7038c-2bfc-4a07-a872-c5447e1aa2af",
   "metadata": {},
   "outputs": [
    {
     "name": "stdout",
     "output_type": "stream",
     "text": [
      "\n",
      "kMeans\n",
      "======\n",
      "\n",
      "Number of iterations: 65\n",
      "Within cluster sum of squared errors: 315.3490270307307\n",
      "\n",
      "Initial starting points (random):\n",
      "\n",
      "Cluster 0: 98,83,102\n",
      "Cluster 1: 140,153,150\n",
      "Cluster 2: 174,108,91\n",
      "Cluster 3: 170,109,85\n",
      "Cluster 4: 134,99,87\n",
      "Cluster 5: 162,109,96\n",
      "Cluster 6: 120,73,75\n",
      "Cluster 7: 101,73,79\n",
      "\n",
      "Missing values globally replaced with mean/mode\n",
      "\n",
      "Final cluster centroids:\n",
      "                         Cluster#\n",
      "Attribute    Full Data          0          1          2          3          4          5          6          7\n",
      "             (34112.0)   (5618.0)   (4413.0)   (1930.0)   (6433.0)   (2049.0)   (4665.0)   (6096.0)   (2908.0)\n",
      "==============================================================================================================\n",
      "red           138.0412   119.4085   183.6084   129.6881   162.4196   148.8673   171.5826   101.5463    71.5715\n",
      "green         109.9719    96.2969   206.4858   130.6435   101.2164   167.0859   115.2384    66.1576    38.7321\n",
      "blue             114.2   103.0011   214.2699   144.4104    91.1671   173.3358   106.1398    77.2252     63.651\n",
      "\n",
      "\n",
      "Clustered Instances\n",
      "\n",
      "0       5618 ( 16%)\n",
      "1       4413 ( 13%)\n",
      "2       1930 (  6%)\n",
      "3       6433 ( 19%)\n",
      "4       2049 (  6%)\n",
      "5       4665 ( 14%)\n",
      "6       6096 ( 18%)\n",
      "7       2908 (  9%)\n",
      "\n",
      "# of clusters: 8\n"
     ]
    }
   ],
   "source": [
    "import weka.clusterers.ClusterEvaluation;\n",
    "import weka.clusterers.SimpleKMeans;\n",
    "import java.util.Random;\n",
    "// remove the class attribute\n",
    "// Remove filter = new Remove();\n",
    "// filter.setAttributeIndices(\"\" + (train.classIndex() + 1));\n",
    "// filter.setInputFormat(train);\n",
    "// Instances dataClusterer = Filter.useFilter(train, filter);\n",
    "\n",
    "//training the clusterer with this new data\n",
    "\n",
    "SimpleKMeans cls = new SimpleKMeans();\n",
    "// either use the below to set the number of clusters\n",
    "cls.setNumClusters(8); //setting number of clusters\n",
    "cls.setMaxIterations(10000); // setting maximum number of iterations\n",
    "// or use the string options below\n",
    "String[] options = new String[4];\n",
    "options[0] = \"-I\"; // max. iterations\n",
    "options[1] = \"10000\";\n",
    "options[2] = \"-S\"; // random number seed changed to 20\n",
    "options[3] = \"8\";\n",
    "cls.setOptions(options);\n",
    "cls.buildClusterer(housing);\n",
    "\n",
    "//evaluate the cluster with the original data\n",
    "\n",
    "ClusterEvaluation eval = new ClusterEvaluation();\n",
    "eval.setClusterer(cls);\n",
    "eval.evaluateClusterer(housing );\n",
    "System.out.println(eval.clusterResultsToString());\n",
    "System.out.println(\"# of clusters: \" + eval.getNumClusters());"
   ]
  },
  {
   "cell_type": "code",
   "execution_count": null,
   "id": "771435ab-ff5b-4db3-8ef8-5ad5e30a3f9e",
   "metadata": {},
   "outputs": [],
   "source": [
    "627.5702896216789\n",
    "315.3490270307307"
   ]
  },
  {
   "cell_type": "code",
   "execution_count": null,
   "id": "e22f4a81-e6c4-4b68-8340-72b407872e4c",
   "metadata": {},
   "outputs": [],
   "source": []
  }
 ],
 "metadata": {
  "kernelspec": {
   "display_name": "Java",
   "language": "java",
   "name": "java"
  },
  "language_info": {
   "codemirror_mode": "java",
   "file_extension": ".jshell",
   "mimetype": "text/x-java-source",
   "name": "Java",
   "pygments_lexer": "java",
   "version": "17.0.9+9-Ubuntu-120.04"
  }
 },
 "nbformat": 4,
 "nbformat_minor": 5
}
